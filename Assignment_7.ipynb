{
  "nbformat": 4,
  "nbformat_minor": 0,
  "metadata": {
    "colab": {
      "name": "Assignment-7.ipynb",
      "version": "0.3.2",
      "provenance": []
    },
    "language_info": {
      "codemirror_mode": {
        "name": "ipython",
        "version": 3
      },
      "file_extension": ".py",
      "mimetype": "text/x-python",
      "name": "python",
      "nbconvert_exporter": "python",
      "pygments_lexer": "ipython3",
      "version": "3.7.3"
    },
    "kernelspec": {
      "name": "python3",
      "display_name": "Python 3"
    },
    "accelerator": "GPU"
  },
  "cells": [
    {
      "cell_type": "code",
      "metadata": {
        "id": "agZ8tydDB1jZ",
        "colab_type": "code",
        "colab": {}
      },
      "source": [
        "# Importing the libraries\n",
        "import numpy as np\n",
        "import tensorflow as tf\n",
        "import os"
      ],
      "execution_count": 0,
      "outputs": []
    },
    {
      "cell_type": "code",
      "metadata": {
        "id": "9JMcR-4LB1jo",
        "colab_type": "code",
        "colab": {}
      },
      "source": [
        "# Loading the text file containing shakespere's text and converting to numbers\n",
        "if 'shakespeare_input.txt' not in os.listdir():\n",
        "  !wget https://cs.stanford.edu/people/karpathy/char-rnn/shakespeare_input.txt\n",
        "with open('shakespeare_input.txt', 'r') as f:\n",
        "    text=f.read()\n",
        "vocab = sorted(set(text))\n",
        "vocab_to_int = {c: i for i, c in enumerate(vocab)}\n",
        "int_to_vocab = dict(enumerate(vocab))\n",
        "encoded = np.array([vocab_to_int[c] for c in text], dtype=np.int32)"
      ],
      "execution_count": 0,
      "outputs": []
    },
    {
      "cell_type": "code",
      "metadata": {
        "id": "jo4rXe_UB1jv",
        "colab_type": "code",
        "colab": {
          "base_uri": "https://localhost:8080/",
          "height": 156
        },
        "outputId": "1415fe87-4c11-452f-f32f-824464c57e82"
      },
      "source": [
        "# Original text\n",
        "print(text[:100])"
      ],
      "execution_count": 4,
      "outputs": [
        {
          "output_type": "stream",
          "text": [
            "First Citizen:\n",
            "Before we proceed any further, hear me speak.\n",
            "\n",
            "All:\n",
            "Speak, speak.\n",
            "\n",
            "First Citizen:\n",
            "You\n"
          ],
          "name": "stdout"
        }
      ]
    },
    {
      "cell_type": "code",
      "metadata": {
        "id": "k66Av8rzB1j5",
        "colab_type": "code",
        "colab": {
          "base_uri": "https://localhost:8080/",
          "height": 104
        },
        "outputId": "86617faf-73ad-45cd-9414-97f826ab4fc8"
      },
      "source": [
        "# Encoded text\n",
        "print(encoded[:100])"
      ],
      "execution_count": 5,
      "outputs": [
        {
          "output_type": "stream",
          "text": [
            "[18 49 58 59 60  1 15 49 60 49 66 45 54 10  0 14 45 46 55 58 45  1 63 45\n",
            "  1 56 58 55 43 45 45 44  1 41 54 65  1 46 61 58 60 48 45 58  6  1 48 45\n",
            " 41 58  1 53 45  1 59 56 45 41 51  8  0  0 13 52 52 10  0 31 56 45 41 51\n",
            "  6  1 59 56 45 41 51  8  0  0 18 49 58 59 60  1 15 49 60 49 66 45 54 10\n",
            "  0 37 55 61]\n"
          ],
          "name": "stdout"
        }
      ]
    },
    {
      "cell_type": "code",
      "metadata": {
        "id": "FNBhnxRDB1kC",
        "colab_type": "code",
        "colab": {
          "base_uri": "https://localhost:8080/",
          "height": 34
        },
        "outputId": "1ee30a50-c494-407e-e194-1b8ec650b292"
      },
      "source": [
        "# size of vocal\n",
        "vocab_size = len(vocab)\n",
        "print(vocab_size)"
      ],
      "execution_count": 6,
      "outputs": [
        {
          "output_type": "stream",
          "text": [
            "67\n"
          ],
          "name": "stdout"
        }
      ]
    },
    {
      "cell_type": "code",
      "metadata": {
        "id": "OjlkebiQB1kI",
        "colab_type": "code",
        "colab": {}
      },
      "source": [
        "# function for getting batches\n",
        "def get_batches(arr, batch_size, n_steps):\n",
        "    '''Create a generator that returns batches of size\n",
        "       batch_size x n_steps from arr.\n",
        "    '''\n",
        "    # Get the number of characters per batch and number of batches we can make\n",
        "    characters_per_batch = batch_size * n_steps\n",
        "    n_batches = len(arr) // characters_per_batch\n",
        "    \n",
        "    # Keep only enough characters to make full batches\n",
        "    arr = arr[: n_batches * characters_per_batch]\n",
        "    \n",
        "    # Reshape into batch_size rows\n",
        "    arr = arr.reshape((batch_size, -1))\n",
        "    \n",
        "    for n in range(0, arr.shape[1], n_steps):\n",
        "        # The features\n",
        "        x = arr[:, n : n + n_steps]\n",
        "        # The targets\n",
        "        y = np.zeros_like(x)\n",
        "        y[:, :-1], y[:, -1] = x[:, 1:], x[:, 0]\n",
        "        yield x, y"
      ],
      "execution_count": 0,
      "outputs": []
    },
    {
      "cell_type": "code",
      "metadata": {
        "id": "RIDlLCYcB1kO",
        "colab_type": "code",
        "colab": {}
      },
      "source": [
        "batches = get_batches(encoded, 10, 50)\n",
        "x, y = next(batches)"
      ],
      "execution_count": 0,
      "outputs": []
    },
    {
      "cell_type": "code",
      "metadata": {
        "id": "NB50eUzmB1kT",
        "colab_type": "code",
        "colab": {
          "base_uri": "https://localhost:8080/",
          "height": 416
        },
        "outputId": "26033f96-f40e-4fb4-e452-a8198645cceb"
      },
      "source": [
        "print('x\\n', x[:10, :10])\n",
        "print('\\ny\\n', y[:10, :10])"
      ],
      "execution_count": 40,
      "outputs": [
        {
          "output_type": "stream",
          "text": [
            "x\n",
            " [[18 49 58 59 60  1 15 49 60 49]\n",
            " [45 59 45  6  1 63 48 55  1 55]\n",
            " [52  1 42 45  1 48 41 54 47 45]\n",
            " [ 1 43 41 60  1 49 59  1 47 58]\n",
            " [48  1 44 49 44  1 57 61 41 51]\n",
            " [54 44 45 58  1 48 55 54 55 61]\n",
            " [10  0 25 65  1 63 55 58 60 48]\n",
            " [ 0 32 49 52 52  1 48 45  1 48]\n",
            " [41 44  1 55 46  1 48 49 53  8]\n",
            " [46  1 65 55 61  1 63 49 52 52]]\n",
            "\n",
            "y\n",
            " [[49 58 59 60  1 15 49 60 49 66]\n",
            " [59 45  6  1 63 48 55  1 55 46]\n",
            " [ 1 42 45  1 48 41 54 47 45 44]\n",
            " [43 41 60  1 49 59  1 47 58 41]\n",
            " [ 1 44 49 44  1 57 61 41 51 45]\n",
            " [44 45 58  1 48 55 54 55 61 58]\n",
            " [ 0 25 65  1 63 55 58 60 48 65]\n",
            " [32 49 52 52  1 48 45  1 48 41]\n",
            " [44  1 55 46  1 48 49 53  8  0]\n",
            " [ 1 65 55 61  1 63 49 52 52  1]]\n"
          ],
          "name": "stdout"
        }
      ]
    },
    {
      "cell_type": "code",
      "metadata": {
        "id": "vq3O2F8rB1kc",
        "colab_type": "code",
        "colab": {}
      },
      "source": [
        "# Creating placeholders for input, target and keep_prob\n",
        "def build_inputs(batch_size, num_steps):\n",
        "    ''' Define placeholders for inputs, targets, and dropout \n",
        "    \n",
        "    '''\n",
        "    # Declare placeholders we'll feed into the graph\n",
        "    inputs = tf.placeholder(tf.int32, [batch_size, num_steps], name='inputs')\n",
        "    targets = tf.placeholder(tf.int32, [batch_size, num_steps], name='targets')\n",
        "    \n",
        "    # Keep probability placeholder for drop out layers\n",
        "    keep_prob = tf.placeholder(tf.float32, name='keep_prob')\n",
        "    \n",
        "    return inputs, targets, keep_prob"
      ],
      "execution_count": 0,
      "outputs": []
    },
    {
      "cell_type": "code",
      "metadata": {
        "id": "JgP-kPiaB1ki",
        "colab_type": "code",
        "colab": {}
      },
      "source": [
        "# Defining the lstm cell for model\n",
        "def build_lstm(lstm_size, num_layers, batch_size, keep_prob):\n",
        "    ### Build the LSTM Cell\n",
        "    \n",
        "    def build_cell(lstm_size, keep_prob):\n",
        "        # Use a basic LSTM cell\n",
        "        lstm = tf.contrib.rnn.BasicLSTMCell(lstm_size)\n",
        "        \n",
        "        # Add dropout to the cell\n",
        "        drop = tf.contrib.rnn.DropoutWrapper(lstm, output_keep_prob=keep_prob)\n",
        "        return drop\n",
        "    \n",
        "    \n",
        "    # Stack up multiple LSTM layers, for deep learning\n",
        "    cell = tf.contrib.rnn.MultiRNNCell([build_cell(lstm_size, keep_prob) for _ in range(num_layers)])\n",
        "    initial_state = cell.zero_state(batch_size, tf.float32)\n",
        "    \n",
        "    return cell, initial_state"
      ],
      "execution_count": 0,
      "outputs": []
    },
    {
      "cell_type": "code",
      "metadata": {
        "id": "1M4QhdIVB1kq",
        "colab_type": "code",
        "colab": {}
      },
      "source": [
        "# Getting the logits\n",
        "def build_output(lstm_output, in_size, out_size):\n",
        "    ''' Builds a softmax layer, return the softmax output and logits.\n",
        "    \n",
        "        Arguments\n",
        "        ---------\n",
        "        \n",
        "        x: Input tensor\n",
        "        in_size: Size of the input tensor, for example, size of the LSTM cells\n",
        "        out_size: Size of this softmax layer\n",
        "    \n",
        "    '''\n",
        "\n",
        "    # Reshape output so it's a bunch of rows, one row for each step for each sequence.\n",
        "    # That is, the shape should be batch_size*num_steps rows by lstm_size columns\n",
        "    seq_output = tf.concat(lstm_output, axis=1)\n",
        "    x = tf.reshape(seq_output, [-1, in_size])\n",
        "    \n",
        "    # Connect the RNN outputs to a softmax layer\n",
        "    with tf.variable_scope('softmax'):\n",
        "        softmax_w = tf.Variable(tf.truncated_normal((in_size, out_size), stddev=0.1))\n",
        "        softmax_b = tf.Variable(tf.zeros(out_size))\n",
        "    \n",
        "    # Since output is a bunch of rows of RNN cell outputs, logits will be a bunch\n",
        "    # of rows of logit outputs, one for each step and sequence\n",
        "    logits = tf.matmul(x, softmax_w) + softmax_b\n",
        "    \n",
        "    # Use softmax to get the probabilities for predicted characters\n",
        "    out = tf.nn.softmax(logits, name='predictions')\n",
        "    \n",
        "    return out, logits"
      ],
      "execution_count": 0,
      "outputs": []
    },
    {
      "cell_type": "code",
      "metadata": {
        "id": "a5h9vzZAB1kv",
        "colab_type": "code",
        "colab": {}
      },
      "source": [
        "# Calculating the loss\n",
        "def build_loss(logits, targets, lstm_size, num_classes):\n",
        "    ''' Calculate the loss from the logits and the targets.\n",
        "    \n",
        "        Arguments\n",
        "        ---------\n",
        "        logits: Logits from final fully connected layer\n",
        "        targets: Targets for supervised learning\n",
        "        lstm_size: Number of LSTM hidden units\n",
        "        num_classes: Number of classes in targets\n",
        "        \n",
        "    '''\n",
        "    \n",
        "    # One-hot encode targets and reshape to match logits, one row per batch_size per step\n",
        "    y_one_hot = tf.one_hot(targets, num_classes)\n",
        "    y_reshaped = tf.reshape(y_one_hot, logits.get_shape())\n",
        "    \n",
        "    # Softmax cross entropy loss\n",
        "    loss = tf.nn.softmax_cross_entropy_with_logits(logits=logits, labels=y_reshaped)\n",
        "    loss = tf.reduce_mean(loss)\n",
        "    return loss"
      ],
      "execution_count": 0,
      "outputs": []
    },
    {
      "cell_type": "code",
      "metadata": {
        "id": "vW7AsjLoB1k0",
        "colab_type": "code",
        "colab": {}
      },
      "source": [
        "# Defining the optimizer for training\n",
        "def build_optimizer(loss, learning_rate, grad_clip):\n",
        "    ''' Build optmizer for training, using gradient clipping.\n",
        "    \n",
        "        Arguments:\n",
        "        loss: Network loss\n",
        "        learning_rate: Learning rate for optimizer\n",
        "    \n",
        "    '''\n",
        "    \n",
        "    # Optimizer for training, using gradient clipping to control exploding gradients\n",
        "    tvars = tf.trainable_variables()\n",
        "    grads, _ = tf.clip_by_global_norm(tf.gradients(loss, tvars), grad_clip)\n",
        "    train_op = tf.train.AdamOptimizer(learning_rate)\n",
        "    optimizer = train_op.apply_gradients(zip(grads, tvars))\n",
        "    \n",
        "    return optimizer"
      ],
      "execution_count": 0,
      "outputs": []
    },
    {
      "cell_type": "code",
      "metadata": {
        "id": "ALRAY9YYB1k5",
        "colab_type": "code",
        "colab": {}
      },
      "source": [
        "class CharRNN:\n",
        "    \n",
        "    def __init__(self, num_classes, batch_size=64, num_steps=50, \n",
        "                       lstm_size=128, num_layers=2, learning_rate=0.001, \n",
        "                       grad_clip=5, sampling=False):\n",
        "    \n",
        "        # When we're using this network for sampling later, we'll be passing in\n",
        "        # one character at a time, so providing an option for that\n",
        "        if sampling == True:\n",
        "            batch_size, num_steps = 1, 1\n",
        "        else:\n",
        "            batch_size, num_steps = batch_size, num_steps\n",
        "\n",
        "        tf.reset_default_graph()\n",
        "        \n",
        "        # Build the input placeholder tensors\n",
        "        self.inputs, self.targets, self.keep_prob = build_inputs(batch_size, num_steps)\n",
        "\n",
        "        # Build the LSTM cell\n",
        "        cell, self.initial_state = build_lstm(lstm_size, num_layers, batch_size, self.keep_prob)\n",
        "\n",
        "        ### Run the data through the RNN layers\n",
        "        # First, one-hot encode the input tokens\n",
        "        x_one_hot = tf.one_hot(self.inputs, num_classes)\n",
        "        \n",
        "        # Run each sequence step through the RNN and collect the outputs\n",
        "        outputs, state = tf.nn.dynamic_rnn(cell, x_one_hot, initial_state=self.initial_state)\n",
        "        self.final_state = state\n",
        "        \n",
        "        # Get softmax predictions and logits\n",
        "        self.prediction, self.logits = build_output(outputs, lstm_size, num_classes)\n",
        "        \n",
        "        # Loss and optimizer (with gradient clipping)\n",
        "        self.loss = build_loss(self.logits, self.targets, lstm_size, num_classes)\n",
        "        self.optimizer = build_optimizer(self.loss, learning_rate, grad_clip)"
      ],
      "execution_count": 0,
      "outputs": []
    },
    {
      "cell_type": "code",
      "metadata": {
        "id": "ccjkeGu7B1k-",
        "colab_type": "code",
        "colab": {}
      },
      "source": [
        "# Hyperparameters\n",
        "batch_size = 100        # Sequences per batch\n",
        "num_steps = 100         # Number of sequence steps per batch\n",
        "lstm_size = 512         # Size of hidden layers in LSTMs\n",
        "num_layers = 2          # Number of LSTM layers\n",
        "learning_rate = 0.001   # Learning rate\n",
        "keep_prob = 0.5         # Dropout keep probability"
      ],
      "execution_count": 0,
      "outputs": []
    },
    {
      "cell_type": "code",
      "metadata": {
        "id": "sOxnghrDB1lC",
        "colab_type": "code",
        "colab": {}
      },
      "source": [
        "import time\n",
        "from collections import namedtuple"
      ],
      "execution_count": 0,
      "outputs": []
    },
    {
      "cell_type": "code",
      "metadata": {
        "id": "lGoE1DDhB1lG",
        "colab_type": "code",
        "colab": {
          "base_uri": "https://localhost:8080/",
          "height": 1000
        },
        "outputId": "3790211a-50d6-4b4e-9e75-a55a81e5ec06"
      },
      "source": [
        "epochs = 20\n",
        "# Print losses every N interations\n",
        "print_every_n = 50\n",
        "\n",
        "# Save every N iterations\n",
        "save_every_n = 200\n",
        "\n",
        "model = CharRNN(len(vocab), batch_size=batch_size, num_steps=num_steps,\n",
        "                lstm_size=lstm_size, num_layers=num_layers, \n",
        "                learning_rate=learning_rate)\n",
        "\n",
        "saver = tf.train.Saver(max_to_keep=100)\n",
        "with tf.Session() as sess:\n",
        "    sess.run(tf.global_variables_initializer())\n",
        "    \n",
        "    # Use the line below to load a checkpoint and resume training\n",
        "    #saver.restore(sess, 'checkpoints/______.ckpt')\n",
        "    counter = 0\n",
        "    for e in range(epochs):\n",
        "        # Train network\n",
        "        new_state = sess.run(model.initial_state)\n",
        "        loss = 0\n",
        "        for x, y in get_batches(encoded, batch_size, num_steps):\n",
        "            counter += 1\n",
        "            start = time.time()\n",
        "            feed = {model.inputs: x,\n",
        "                    model.targets: y,\n",
        "                    model.keep_prob: keep_prob,\n",
        "                    model.initial_state: new_state}\n",
        "            batch_loss, new_state, _ = sess.run([model.loss, \n",
        "                                                 model.final_state, \n",
        "                                                 model.optimizer], \n",
        "                                                 feed_dict=feed)\n",
        "            if (counter % print_every_n == 0):\n",
        "                end = time.time()\n",
        "                print('Epoch: {}/{}... '.format(e+1, epochs),\n",
        "                      'Training Step: {}... '.format(counter),\n",
        "                      'Training loss: {:.4f}... '.format(batch_loss),\n",
        "                      '{:.4f} sec/batch'.format((end-start)))\n",
        "        \n",
        "            if (counter % save_every_n == 0):\n",
        "                saver.save(sess, \"checkpoints/i{}_l{}.ckpt\".format(counter, lstm_size))\n",
        "    \n",
        "    saver.save(sess, \"checkpoints/i{}_l{}.ckpt\".format(counter, lstm_size))"
      ],
      "execution_count": 18,
      "outputs": [
        {
          "output_type": "stream",
          "text": [
            "WARNING: Logging before flag parsing goes to stderr.\n",
            "W0701 05:36:59.453284 140694842161024 lazy_loader.py:50] \n",
            "The TensorFlow contrib module will not be included in TensorFlow 2.0.\n",
            "For more information, please see:\n",
            "  * https://github.com/tensorflow/community/blob/master/rfcs/20180907-contrib-sunset.md\n",
            "  * https://github.com/tensorflow/addons\n",
            "  * https://github.com/tensorflow/io (for I/O related ops)\n",
            "If you depend on functionality not listed there, please file an issue.\n",
            "\n",
            "W0701 05:36:59.457752 140694842161024 deprecation.py:323] From <ipython-input-11-6a33ab0f9492>:16: BasicLSTMCell.__init__ (from tensorflow.python.ops.rnn_cell_impl) is deprecated and will be removed in a future version.\n",
            "Instructions for updating:\n",
            "This class is equivalent as tf.keras.layers.LSTMCell, and will be replaced by that in Tensorflow 2.0.\n",
            "W0701 05:36:59.466363 140694842161024 deprecation.py:323] From <ipython-input-11-6a33ab0f9492>:24: MultiRNNCell.__init__ (from tensorflow.python.ops.rnn_cell_impl) is deprecated and will be removed in a future version.\n",
            "Instructions for updating:\n",
            "This class is equivalent as tf.keras.layers.StackedRNNCells, and will be replaced by that in Tensorflow 2.0.\n",
            "W0701 05:36:59.507290 140694842161024 deprecation.py:323] From <ipython-input-15-85de622c798a>:27: dynamic_rnn (from tensorflow.python.ops.rnn) is deprecated and will be removed in a future version.\n",
            "Instructions for updating:\n",
            "Please use `keras.layers.RNN(cell)`, which is equivalent to this API\n",
            "W0701 05:36:59.827900 140694842161024 deprecation.py:506] From /usr/local/lib/python3.6/dist-packages/tensorflow/python/ops/init_ops.py:1251: calling VarianceScaling.__init__ (from tensorflow.python.ops.init_ops) with dtype is deprecated and will be removed in a future version.\n",
            "Instructions for updating:\n",
            "Call initializer instance with the dtype argument instead of passing it to the constructor\n",
            "W0701 05:36:59.840083 140694842161024 deprecation.py:506] From /usr/local/lib/python3.6/dist-packages/tensorflow/python/ops/rnn_cell_impl.py:738: calling Zeros.__init__ (from tensorflow.python.ops.init_ops) with dtype is deprecated and will be removed in a future version.\n",
            "Instructions for updating:\n",
            "Call initializer instance with the dtype argument instead of passing it to the constructor\n",
            "W0701 05:37:00.439188 140694842161024 deprecation.py:323] From <ipython-input-13-6d5964af2bdd>:18: softmax_cross_entropy_with_logits (from tensorflow.python.ops.nn_ops) is deprecated and will be removed in a future version.\n",
            "Instructions for updating:\n",
            "\n",
            "Future major versions of TensorFlow will allow gradients to flow\n",
            "into the labels input on backprop by default.\n",
            "\n",
            "See `tf.nn.softmax_cross_entropy_with_logits_v2`.\n",
            "\n",
            "W0701 05:37:00.782742 140694842161024 deprecation.py:323] From /usr/local/lib/python3.6/dist-packages/tensorflow/python/ops/clip_ops.py:286: add_dispatch_support.<locals>.wrapper (from tensorflow.python.ops.array_ops) is deprecated and will be removed in a future version.\n",
            "Instructions for updating:\n",
            "Use tf.where in 2.0, which has the same broadcast rule as np.where\n"
          ],
          "name": "stderr"
        },
        {
          "output_type": "stream",
          "text": [
            "Epoch: 1/20...  Training Step: 50...  Training loss: 3.2945...  0.1537 sec/batch\n",
            "Epoch: 1/20...  Training Step: 100...  Training loss: 3.1293...  0.1508 sec/batch\n",
            "Epoch: 1/20...  Training Step: 150...  Training loss: 2.8488...  0.1516 sec/batch\n",
            "Epoch: 1/20...  Training Step: 200...  Training loss: 2.5176...  0.1540 sec/batch\n",
            "Epoch: 1/20...  Training Step: 250...  Training loss: 2.4269...  0.1570 sec/batch\n",
            "Epoch: 1/20...  Training Step: 300...  Training loss: 2.3301...  0.1602 sec/batch\n",
            "Epoch: 1/20...  Training Step: 350...  Training loss: 2.2631...  0.1561 sec/batch\n",
            "Epoch: 1/20...  Training Step: 400...  Training loss: 2.1815...  0.1564 sec/batch\n",
            "Epoch: 1/20...  Training Step: 450...  Training loss: 2.1402...  0.1557 sec/batch\n",
            "Epoch: 2/20...  Training Step: 500...  Training loss: 2.0739...  0.1557 sec/batch\n",
            "Epoch: 2/20...  Training Step: 550...  Training loss: 2.0286...  0.1529 sec/batch\n",
            "Epoch: 2/20...  Training Step: 600...  Training loss: 2.0001...  0.1552 sec/batch\n",
            "Epoch: 2/20...  Training Step: 650...  Training loss: 1.9939...  0.1543 sec/batch\n",
            "Epoch: 2/20...  Training Step: 700...  Training loss: 1.9232...  0.1548 sec/batch\n",
            "Epoch: 2/20...  Training Step: 750...  Training loss: 1.8900...  0.1629 sec/batch\n",
            "Epoch: 2/20...  Training Step: 800...  Training loss: 1.9102...  0.1551 sec/batch\n",
            "Epoch: 2/20...  Training Step: 850...  Training loss: 1.8678...  0.1570 sec/batch\n",
            "Epoch: 2/20...  Training Step: 900...  Training loss: 1.8119...  0.1593 sec/batch\n",
            "Epoch: 3/20...  Training Step: 950...  Training loss: 1.8081...  0.1553 sec/batch\n",
            "Epoch: 3/20...  Training Step: 1000...  Training loss: 1.8278...  0.1548 sec/batch\n",
            "Epoch: 3/20...  Training Step: 1050...  Training loss: 1.7936...  0.1533 sec/batch\n",
            "Epoch: 3/20...  Training Step: 1100...  Training loss: 1.7608...  0.1548 sec/batch\n",
            "Epoch: 3/20...  Training Step: 1150...  Training loss: 1.7234...  0.1589 sec/batch\n",
            "Epoch: 3/20...  Training Step: 1200...  Training loss: 1.7371...  0.1537 sec/batch\n",
            "Epoch: 3/20...  Training Step: 1250...  Training loss: 1.7249...  0.1563 sec/batch\n",
            "Epoch: 3/20...  Training Step: 1300...  Training loss: 1.6889...  0.1562 sec/batch\n",
            "Epoch: 3/20...  Training Step: 1350...  Training loss: 1.6432...  0.1553 sec/batch\n",
            "Epoch: 4/20...  Training Step: 1400...  Training loss: 1.6389...  0.1536 sec/batch\n",
            "Epoch: 4/20...  Training Step: 1450...  Training loss: 1.6266...  0.1537 sec/batch\n",
            "Epoch: 4/20...  Training Step: 1500...  Training loss: 1.6373...  0.1540 sec/batch\n",
            "Epoch: 4/20...  Training Step: 1550...  Training loss: 1.6287...  0.1532 sec/batch\n",
            "Epoch: 4/20...  Training Step: 1600...  Training loss: 1.5782...  0.1545 sec/batch\n",
            "Epoch: 4/20...  Training Step: 1650...  Training loss: 1.6020...  0.1719 sec/batch\n",
            "Epoch: 4/20...  Training Step: 1700...  Training loss: 1.6163...  0.1548 sec/batch\n",
            "Epoch: 4/20...  Training Step: 1750...  Training loss: 1.5701...  0.1538 sec/batch\n",
            "Epoch: 4/20...  Training Step: 1800...  Training loss: 1.5870...  0.1540 sec/batch\n",
            "Epoch: 5/20...  Training Step: 1850...  Training loss: 1.5676...  0.1560 sec/batch\n",
            "Epoch: 5/20...  Training Step: 1900...  Training loss: 1.5608...  0.1570 sec/batch\n",
            "Epoch: 5/20...  Training Step: 1950...  Training loss: 1.5487...  0.1552 sec/batch\n",
            "Epoch: 5/20...  Training Step: 2000...  Training loss: 1.5438...  0.1536 sec/batch\n",
            "Epoch: 5/20...  Training Step: 2050...  Training loss: 1.5164...  0.1536 sec/batch\n",
            "Epoch: 5/20...  Training Step: 2100...  Training loss: 1.5116...  0.1559 sec/batch\n",
            "Epoch: 5/20...  Training Step: 2150...  Training loss: 1.5365...  0.1585 sec/batch\n",
            "Epoch: 5/20...  Training Step: 2200...  Training loss: 1.5133...  0.1546 sec/batch\n",
            "Epoch: 5/20...  Training Step: 2250...  Training loss: 1.4896...  0.1556 sec/batch\n",
            "Epoch: 6/20...  Training Step: 2300...  Training loss: 1.4604...  0.1564 sec/batch\n",
            "Epoch: 6/20...  Training Step: 2350...  Training loss: 1.4973...  0.1548 sec/batch\n",
            "Epoch: 6/20...  Training Step: 2400...  Training loss: 1.4659...  0.1542 sec/batch\n",
            "Epoch: 6/20...  Training Step: 2450...  Training loss: 1.4578...  0.1557 sec/batch\n",
            "Epoch: 6/20...  Training Step: 2500...  Training loss: 1.4626...  0.1547 sec/batch\n",
            "Epoch: 6/20...  Training Step: 2550...  Training loss: 1.4709...  0.1601 sec/batch\n",
            "Epoch: 6/20...  Training Step: 2600...  Training loss: 1.4717...  0.1556 sec/batch\n",
            "Epoch: 6/20...  Training Step: 2650...  Training loss: 1.4711...  0.1556 sec/batch\n",
            "Epoch: 6/20...  Training Step: 2700...  Training loss: 1.4191...  0.1529 sec/batch\n",
            "Epoch: 7/20...  Training Step: 2750...  Training loss: 1.4235...  0.1580 sec/batch\n",
            "Epoch: 7/20...  Training Step: 2800...  Training loss: 1.4544...  0.1543 sec/batch\n",
            "Epoch: 7/20...  Training Step: 2850...  Training loss: 1.4510...  0.1559 sec/batch\n",
            "Epoch: 7/20...  Training Step: 2900...  Training loss: 1.4184...  0.1560 sec/batch\n",
            "Epoch: 7/20...  Training Step: 2950...  Training loss: 1.4143...  0.1536 sec/batch\n",
            "Epoch: 7/20...  Training Step: 3000...  Training loss: 1.4608...  0.1554 sec/batch\n",
            "Epoch: 7/20...  Training Step: 3050...  Training loss: 1.4418...  0.1580 sec/batch\n",
            "Epoch: 7/20...  Training Step: 3100...  Training loss: 1.4317...  0.1560 sec/batch\n",
            "Epoch: 7/20...  Training Step: 3150...  Training loss: 1.4242...  0.1575 sec/batch\n",
            "Epoch: 8/20...  Training Step: 3200...  Training loss: 1.4939...  0.1568 sec/batch\n",
            "Epoch: 8/20...  Training Step: 3250...  Training loss: 1.3889...  0.1543 sec/batch\n",
            "Epoch: 8/20...  Training Step: 3300...  Training loss: 1.3844...  0.1523 sec/batch\n",
            "Epoch: 8/20...  Training Step: 3350...  Training loss: 1.3736...  0.1569 sec/batch\n",
            "Epoch: 8/20...  Training Step: 3400...  Training loss: 1.3872...  0.1569 sec/batch\n",
            "Epoch: 8/20...  Training Step: 3450...  Training loss: 1.4049...  0.1550 sec/batch\n",
            "Epoch: 8/20...  Training Step: 3500...  Training loss: 1.4011...  0.1564 sec/batch\n",
            "Epoch: 8/20...  Training Step: 3550...  Training loss: 1.3910...  0.1541 sec/batch\n",
            "Epoch: 8/20...  Training Step: 3600...  Training loss: 1.3542...  0.1548 sec/batch\n",
            "Epoch: 8/20...  Training Step: 3650...  Training loss: 1.3948...  0.1547 sec/batch\n",
            "Epoch: 9/20...  Training Step: 3700...  Training loss: 1.3700...  0.1562 sec/batch\n",
            "Epoch: 9/20...  Training Step: 3750...  Training loss: 1.3766...  0.1549 sec/batch\n",
            "Epoch: 9/20...  Training Step: 3800...  Training loss: 1.3765...  0.1551 sec/batch\n",
            "Epoch: 9/20...  Training Step: 3850...  Training loss: 1.3697...  0.1550 sec/batch\n",
            "Epoch: 9/20...  Training Step: 3900...  Training loss: 1.3676...  0.1575 sec/batch\n",
            "Epoch: 9/20...  Training Step: 3950...  Training loss: 1.3675...  0.1528 sec/batch\n",
            "Epoch: 9/20...  Training Step: 4000...  Training loss: 1.3914...  0.1570 sec/batch\n",
            "Epoch: 9/20...  Training Step: 4050...  Training loss: 1.3439...  0.1545 sec/batch\n",
            "Epoch: 9/20...  Training Step: 4100...  Training loss: 1.3699...  0.1533 sec/batch\n",
            "Epoch: 10/20...  Training Step: 4150...  Training loss: 1.3723...  0.1563 sec/batch\n",
            "Epoch: 10/20...  Training Step: 4200...  Training loss: 1.3634...  0.1540 sec/batch\n",
            "Epoch: 10/20...  Training Step: 4250...  Training loss: 1.3740...  0.1534 sec/batch\n",
            "Epoch: 10/20...  Training Step: 4300...  Training loss: 1.3563...  0.1585 sec/batch\n",
            "Epoch: 10/20...  Training Step: 4350...  Training loss: 1.3469...  0.1556 sec/batch\n",
            "Epoch: 10/20...  Training Step: 4400...  Training loss: 1.3474...  0.1612 sec/batch\n",
            "Epoch: 10/20...  Training Step: 4450...  Training loss: 1.4057...  0.1554 sec/batch\n",
            "Epoch: 10/20...  Training Step: 4500...  Training loss: 1.3063...  0.1525 sec/batch\n",
            "Epoch: 10/20...  Training Step: 4550...  Training loss: 1.3291...  0.1535 sec/batch\n",
            "Epoch: 11/20...  Training Step: 4600...  Training loss: 1.3226...  0.1518 sec/batch\n",
            "Epoch: 11/20...  Training Step: 4650...  Training loss: 1.3478...  0.1560 sec/batch\n",
            "Epoch: 11/20...  Training Step: 4700...  Training loss: 1.3855...  0.1549 sec/batch\n",
            "Epoch: 11/20...  Training Step: 4750...  Training loss: 1.3071...  0.1556 sec/batch\n",
            "Epoch: 11/20...  Training Step: 4800...  Training loss: 1.3622...  0.1563 sec/batch\n",
            "Epoch: 11/20...  Training Step: 4850...  Training loss: 1.3456...  0.1587 sec/batch\n",
            "Epoch: 11/20...  Training Step: 4900...  Training loss: 1.3665...  0.1545 sec/batch\n",
            "Epoch: 11/20...  Training Step: 4950...  Training loss: 1.3040...  0.1548 sec/batch\n",
            "Epoch: 11/20...  Training Step: 5000...  Training loss: 1.3189...  0.1557 sec/batch\n",
            "Epoch: 12/20...  Training Step: 5050...  Training loss: 1.3377...  0.1537 sec/batch\n",
            "Epoch: 12/20...  Training Step: 5100...  Training loss: 1.3215...  0.1578 sec/batch\n",
            "Epoch: 12/20...  Training Step: 5150...  Training loss: 1.3550...  0.1558 sec/batch\n",
            "Epoch: 12/20...  Training Step: 5200...  Training loss: 1.3323...  0.1548 sec/batch\n",
            "Epoch: 12/20...  Training Step: 5250...  Training loss: 1.3256...  0.1639 sec/batch\n",
            "Epoch: 12/20...  Training Step: 5300...  Training loss: 1.3050...  0.1561 sec/batch\n",
            "Epoch: 12/20...  Training Step: 5350...  Training loss: 1.3502...  0.1530 sec/batch\n",
            "Epoch: 12/20...  Training Step: 5400...  Training loss: 1.3236...  0.1542 sec/batch\n",
            "Epoch: 12/20...  Training Step: 5450...  Training loss: 1.3414...  0.1545 sec/batch\n",
            "Epoch: 13/20...  Training Step: 5500...  Training loss: 1.3231...  0.1567 sec/batch\n",
            "Epoch: 13/20...  Training Step: 5550...  Training loss: 1.3613...  0.1542 sec/batch\n",
            "Epoch: 13/20...  Training Step: 5600...  Training loss: 1.3480...  0.1536 sec/batch\n",
            "Epoch: 13/20...  Training Step: 5650...  Training loss: 1.3192...  0.1550 sec/batch\n",
            "Epoch: 13/20...  Training Step: 5700...  Training loss: 1.2929...  0.1550 sec/batch\n",
            "Epoch: 13/20...  Training Step: 5750...  Training loss: 1.3195...  0.1566 sec/batch\n",
            "Epoch: 13/20...  Training Step: 5800...  Training loss: 1.3031...  0.1552 sec/batch\n",
            "Epoch: 13/20...  Training Step: 5850...  Training loss: 1.3176...  0.1551 sec/batch\n",
            "Epoch: 13/20...  Training Step: 5900...  Training loss: 1.2927...  0.1543 sec/batch\n",
            "Epoch: 14/20...  Training Step: 5950...  Training loss: 1.3122...  0.1543 sec/batch\n",
            "Epoch: 14/20...  Training Step: 6000...  Training loss: 1.3310...  0.1552 sec/batch\n",
            "Epoch: 14/20...  Training Step: 6050...  Training loss: 1.3442...  0.1590 sec/batch\n",
            "Epoch: 14/20...  Training Step: 6100...  Training loss: 1.2814...  0.1555 sec/batch\n",
            "Epoch: 14/20...  Training Step: 6150...  Training loss: 1.3130...  0.1543 sec/batch\n",
            "Epoch: 14/20...  Training Step: 6200...  Training loss: 1.3222...  0.1548 sec/batch\n",
            "Epoch: 14/20...  Training Step: 6250...  Training loss: 1.3032...  0.1540 sec/batch\n",
            "Epoch: 14/20...  Training Step: 6300...  Training loss: 1.3181...  0.1640 sec/batch\n",
            "Epoch: 14/20...  Training Step: 6350...  Training loss: 1.3160...  0.1558 sec/batch\n",
            "Epoch: 15/20...  Training Step: 6400...  Training loss: 1.2949...  0.1684 sec/batch\n",
            "Epoch: 15/20...  Training Step: 6450...  Training loss: 1.3175...  0.1556 sec/batch\n",
            "Epoch: 15/20...  Training Step: 6500...  Training loss: 1.2987...  0.1567 sec/batch\n",
            "Epoch: 15/20...  Training Step: 6550...  Training loss: 1.2778...  0.1559 sec/batch\n",
            "Epoch: 15/20...  Training Step: 6600...  Training loss: 1.2917...  0.1554 sec/batch\n",
            "Epoch: 15/20...  Training Step: 6650...  Training loss: 1.2974...  0.1612 sec/batch\n",
            "Epoch: 15/20...  Training Step: 6700...  Training loss: 1.2900...  0.1544 sec/batch\n",
            "Epoch: 15/20...  Training Step: 6750...  Training loss: 1.2692...  0.1557 sec/batch\n",
            "Epoch: 15/20...  Training Step: 6800...  Training loss: 1.2624...  0.1558 sec/batch\n",
            "Epoch: 15/20...  Training Step: 6850...  Training loss: 1.2887...  0.1540 sec/batch\n",
            "Epoch: 16/20...  Training Step: 6900...  Training loss: 1.2511...  0.1575 sec/batch\n",
            "Epoch: 16/20...  Training Step: 6950...  Training loss: 1.2669...  0.1549 sec/batch\n",
            "Epoch: 16/20...  Training Step: 7000...  Training loss: 1.3061...  0.1569 sec/batch\n",
            "Epoch: 16/20...  Training Step: 7050...  Training loss: 1.3079...  0.1578 sec/batch\n",
            "Epoch: 16/20...  Training Step: 7100...  Training loss: 1.2611...  0.1535 sec/batch\n",
            "Epoch: 16/20...  Training Step: 7150...  Training loss: 1.2721...  0.1544 sec/batch\n",
            "Epoch: 16/20...  Training Step: 7200...  Training loss: 1.3153...  0.1539 sec/batch\n",
            "Epoch: 16/20...  Training Step: 7250...  Training loss: 1.2764...  0.1568 sec/batch\n",
            "Epoch: 16/20...  Training Step: 7300...  Training loss: 1.2800...  0.1540 sec/batch\n",
            "Epoch: 17/20...  Training Step: 7350...  Training loss: 1.2655...  0.1538 sec/batch\n",
            "Epoch: 17/20...  Training Step: 7400...  Training loss: 1.2998...  0.1536 sec/batch\n",
            "Epoch: 17/20...  Training Step: 7450...  Training loss: 1.2933...  0.1546 sec/batch\n",
            "Epoch: 17/20...  Training Step: 7500...  Training loss: 1.2960...  0.1548 sec/batch\n",
            "Epoch: 17/20...  Training Step: 7550...  Training loss: 1.2985...  0.1553 sec/batch\n",
            "Epoch: 17/20...  Training Step: 7600...  Training loss: 1.2639...  0.1544 sec/batch\n",
            "Epoch: 17/20...  Training Step: 7650...  Training loss: 1.3178...  0.1560 sec/batch\n",
            "Epoch: 17/20...  Training Step: 7700...  Training loss: 1.2609...  0.1547 sec/batch\n",
            "Epoch: 17/20...  Training Step: 7750...  Training loss: 1.2521...  0.1559 sec/batch\n",
            "Epoch: 18/20...  Training Step: 7800...  Training loss: 1.2394...  0.1551 sec/batch\n",
            "Epoch: 18/20...  Training Step: 7850...  Training loss: 1.2447...  0.1541 sec/batch\n",
            "Epoch: 18/20...  Training Step: 7900...  Training loss: 1.3026...  0.1581 sec/batch\n",
            "Epoch: 18/20...  Training Step: 7950...  Training loss: 1.2724...  0.1575 sec/batch\n",
            "Epoch: 18/20...  Training Step: 8000...  Training loss: 1.2901...  0.1550 sec/batch\n",
            "Epoch: 18/20...  Training Step: 8050...  Training loss: 1.2534...  0.1565 sec/batch\n",
            "Epoch: 18/20...  Training Step: 8100...  Training loss: 1.2576...  0.1553 sec/batch\n",
            "Epoch: 18/20...  Training Step: 8150...  Training loss: 1.2770...  0.1552 sec/batch\n",
            "Epoch: 18/20...  Training Step: 8200...  Training loss: 1.2664...  0.1556 sec/batch\n",
            "Epoch: 19/20...  Training Step: 8250...  Training loss: 1.2571...  0.1556 sec/batch\n",
            "Epoch: 19/20...  Training Step: 8300...  Training loss: 1.2521...  0.1558 sec/batch\n",
            "Epoch: 19/20...  Training Step: 8350...  Training loss: 1.2760...  0.1556 sec/batch\n",
            "Epoch: 19/20...  Training Step: 8400...  Training loss: 1.2781...  0.1546 sec/batch\n",
            "Epoch: 19/20...  Training Step: 8450...  Training loss: 1.2330...  0.1551 sec/batch\n",
            "Epoch: 19/20...  Training Step: 8500...  Training loss: 1.2756...  0.1555 sec/batch\n",
            "Epoch: 19/20...  Training Step: 8550...  Training loss: 1.3035...  0.1551 sec/batch\n",
            "Epoch: 19/20...  Training Step: 8600...  Training loss: 1.2626...  0.1561 sec/batch\n",
            "Epoch: 19/20...  Training Step: 8650...  Training loss: 1.2473...  0.1553 sec/batch\n",
            "Epoch: 20/20...  Training Step: 8700...  Training loss: 1.2419...  0.1563 sec/batch\n",
            "Epoch: 20/20...  Training Step: 8750...  Training loss: 1.2859...  0.1563 sec/batch\n",
            "Epoch: 20/20...  Training Step: 8800...  Training loss: 1.2820...  0.1540 sec/batch\n",
            "Epoch: 20/20...  Training Step: 8850...  Training loss: 1.2680...  0.1606 sec/batch\n",
            "Epoch: 20/20...  Training Step: 8900...  Training loss: 1.2332...  0.1524 sec/batch\n",
            "Epoch: 20/20...  Training Step: 8950...  Training loss: 1.2535...  0.1554 sec/batch\n",
            "Epoch: 20/20...  Training Step: 9000...  Training loss: 1.2498...  0.1565 sec/batch\n",
            "Epoch: 20/20...  Training Step: 9050...  Training loss: 1.2628...  0.1570 sec/batch\n",
            "Epoch: 20/20...  Training Step: 9100...  Training loss: 1.2379...  0.1552 sec/batch\n"
          ],
          "name": "stdout"
        }
      ]
    },
    {
      "cell_type": "code",
      "metadata": {
        "id": "6eqX5ol_B1lL",
        "colab_type": "code",
        "colab": {
          "base_uri": "https://localhost:8080/",
          "height": 833
        },
        "outputId": "f9b519f8-d71a-467d-9e8e-6574a7858626"
      },
      "source": [
        "tf.train.get_checkpoint_state('checkpoints')"
      ],
      "execution_count": 19,
      "outputs": [
        {
          "output_type": "execute_result",
          "data": {
            "text/plain": [
              "model_checkpoint_path: \"checkpoints/i9140_l512.ckpt\"\n",
              "all_model_checkpoint_paths: \"checkpoints/i200_l512.ckpt\"\n",
              "all_model_checkpoint_paths: \"checkpoints/i400_l512.ckpt\"\n",
              "all_model_checkpoint_paths: \"checkpoints/i600_l512.ckpt\"\n",
              "all_model_checkpoint_paths: \"checkpoints/i800_l512.ckpt\"\n",
              "all_model_checkpoint_paths: \"checkpoints/i1000_l512.ckpt\"\n",
              "all_model_checkpoint_paths: \"checkpoints/i1200_l512.ckpt\"\n",
              "all_model_checkpoint_paths: \"checkpoints/i1400_l512.ckpt\"\n",
              "all_model_checkpoint_paths: \"checkpoints/i1600_l512.ckpt\"\n",
              "all_model_checkpoint_paths: \"checkpoints/i1800_l512.ckpt\"\n",
              "all_model_checkpoint_paths: \"checkpoints/i2000_l512.ckpt\"\n",
              "all_model_checkpoint_paths: \"checkpoints/i2200_l512.ckpt\"\n",
              "all_model_checkpoint_paths: \"checkpoints/i2400_l512.ckpt\"\n",
              "all_model_checkpoint_paths: \"checkpoints/i2600_l512.ckpt\"\n",
              "all_model_checkpoint_paths: \"checkpoints/i2800_l512.ckpt\"\n",
              "all_model_checkpoint_paths: \"checkpoints/i3000_l512.ckpt\"\n",
              "all_model_checkpoint_paths: \"checkpoints/i3200_l512.ckpt\"\n",
              "all_model_checkpoint_paths: \"checkpoints/i3400_l512.ckpt\"\n",
              "all_model_checkpoint_paths: \"checkpoints/i3600_l512.ckpt\"\n",
              "all_model_checkpoint_paths: \"checkpoints/i3800_l512.ckpt\"\n",
              "all_model_checkpoint_paths: \"checkpoints/i4000_l512.ckpt\"\n",
              "all_model_checkpoint_paths: \"checkpoints/i4200_l512.ckpt\"\n",
              "all_model_checkpoint_paths: \"checkpoints/i4400_l512.ckpt\"\n",
              "all_model_checkpoint_paths: \"checkpoints/i4600_l512.ckpt\"\n",
              "all_model_checkpoint_paths: \"checkpoints/i4800_l512.ckpt\"\n",
              "all_model_checkpoint_paths: \"checkpoints/i5000_l512.ckpt\"\n",
              "all_model_checkpoint_paths: \"checkpoints/i5200_l512.ckpt\"\n",
              "all_model_checkpoint_paths: \"checkpoints/i5400_l512.ckpt\"\n",
              "all_model_checkpoint_paths: \"checkpoints/i5600_l512.ckpt\"\n",
              "all_model_checkpoint_paths: \"checkpoints/i5800_l512.ckpt\"\n",
              "all_model_checkpoint_paths: \"checkpoints/i6000_l512.ckpt\"\n",
              "all_model_checkpoint_paths: \"checkpoints/i6200_l512.ckpt\"\n",
              "all_model_checkpoint_paths: \"checkpoints/i6400_l512.ckpt\"\n",
              "all_model_checkpoint_paths: \"checkpoints/i6600_l512.ckpt\"\n",
              "all_model_checkpoint_paths: \"checkpoints/i6800_l512.ckpt\"\n",
              "all_model_checkpoint_paths: \"checkpoints/i7000_l512.ckpt\"\n",
              "all_model_checkpoint_paths: \"checkpoints/i7200_l512.ckpt\"\n",
              "all_model_checkpoint_paths: \"checkpoints/i7400_l512.ckpt\"\n",
              "all_model_checkpoint_paths: \"checkpoints/i7600_l512.ckpt\"\n",
              "all_model_checkpoint_paths: \"checkpoints/i7800_l512.ckpt\"\n",
              "all_model_checkpoint_paths: \"checkpoints/i8000_l512.ckpt\"\n",
              "all_model_checkpoint_paths: \"checkpoints/i8200_l512.ckpt\"\n",
              "all_model_checkpoint_paths: \"checkpoints/i8400_l512.ckpt\"\n",
              "all_model_checkpoint_paths: \"checkpoints/i8600_l512.ckpt\"\n",
              "all_model_checkpoint_paths: \"checkpoints/i8800_l512.ckpt\"\n",
              "all_model_checkpoint_paths: \"checkpoints/i9000_l512.ckpt\"\n",
              "all_model_checkpoint_paths: \"checkpoints/i9140_l512.ckpt\""
            ]
          },
          "metadata": {
            "tags": []
          },
          "execution_count": 19
        }
      ]
    },
    {
      "cell_type": "code",
      "metadata": {
        "id": "j7nCOo-qB1lP",
        "colab_type": "code",
        "colab": {}
      },
      "source": [
        "def pick_top_n(preds, vocab_size, top_n=5):\n",
        "    p = np.squeeze(preds)\n",
        "    p[np.argsort(p)[:-top_n]] = 0\n",
        "    p = p / np.sum(p)\n",
        "    c = np.random.choice(vocab_size, 1, p=p)[0]\n",
        "    return c"
      ],
      "execution_count": 0,
      "outputs": []
    },
    {
      "cell_type": "code",
      "metadata": {
        "id": "-Gv1rS4gB1lU",
        "colab_type": "code",
        "colab": {}
      },
      "source": [
        "# generating new text\n",
        "def sample(checkpoint, n_samples, lstm_size, vocab_size, prime=\"The \"):\n",
        "    samples = [c for c in prime]\n",
        "    model = CharRNN(len(vocab), lstm_size=lstm_size, sampling=True)\n",
        "    saver = tf.train.Saver()\n",
        "    with tf.Session() as sess:\n",
        "        saver.restore(sess, checkpoint)\n",
        "        new_state = sess.run(model.initial_state)\n",
        "        for c in prime:\n",
        "            x = np.zeros((1, 1))\n",
        "            x[0,0] = vocab_to_int[c]\n",
        "            feed = {model.inputs: x,\n",
        "                    model.keep_prob: 1.,\n",
        "                    model.initial_state: new_state}\n",
        "            preds, new_state = sess.run([model.prediction, model.final_state], \n",
        "                                         feed_dict=feed)\n",
        "\n",
        "        c = pick_top_n(preds, len(vocab))\n",
        "        samples.append(int_to_vocab[c])\n",
        "\n",
        "        for i in range(n_samples):\n",
        "            x[0,0] = c\n",
        "            feed = {model.inputs: x,\n",
        "                    model.keep_prob: 1.,\n",
        "                    model.initial_state: new_state}\n",
        "            preds, new_state = sess.run([model.prediction, model.final_state], \n",
        "                                         feed_dict=feed)\n",
        "\n",
        "            c = pick_top_n(preds, len(vocab))\n",
        "            samples.append(int_to_vocab[c])\n",
        "        \n",
        "    return ''.join(samples)"
      ],
      "execution_count": 0,
      "outputs": []
    },
    {
      "cell_type": "code",
      "metadata": {
        "id": "idfjy0bsB1lX",
        "colab_type": "code",
        "colab": {
          "base_uri": "https://localhost:8080/",
          "height": 34
        },
        "outputId": "5346ff57-f46c-4d42-eeb0-87f07c66f5cc"
      },
      "source": [
        "tf.train.latest_checkpoint('checkpoints')"
      ],
      "execution_count": 22,
      "outputs": [
        {
          "output_type": "execute_result",
          "data": {
            "text/plain": [
              "'checkpoints/i9140_l512.ckpt'"
            ]
          },
          "metadata": {
            "tags": []
          },
          "execution_count": 22
        }
      ]
    },
    {
      "cell_type": "code",
      "metadata": {
        "id": "7rL3RbGcB1lf",
        "colab_type": "code",
        "colab": {
          "base_uri": "https://localhost:8080/",
          "height": 1000
        },
        "outputId": "e225325f-4131-4872-f434-fa9f05d11acc"
      },
      "source": [
        "checkpoint = tf.train.latest_checkpoint('checkpoints')\n",
        "samp = sample(checkpoint, 2000, lstm_size, len(vocab), prime=\"Far\")\n",
        "print(samp)"
      ],
      "execution_count": 23,
      "outputs": [
        {
          "output_type": "stream",
          "text": [
            "W0701 06:03:52.973279 140694842161024 deprecation.py:323] From /usr/local/lib/python3.6/dist-packages/tensorflow/python/training/saver.py:1276: checkpoint_exists (from tensorflow.python.training.checkpoint_management) is deprecated and will be removed in a future version.\n",
            "Instructions for updating:\n",
            "Use standard file APIs to check for files with this prefix.\n"
          ],
          "name": "stderr"
        },
        {
          "output_type": "stream",
          "text": [
            "Farcester,\n",
            "And win me that we may be so by hand\n",
            "That, when you did not, which with a some cause,\n",
            "To hero it almost the world and whom they'll spire,\n",
            "Which I shall show, and tempt you to the composition\n",
            "And that he was but service at this mind,\n",
            "That, by the wars of all the weaken man,\n",
            "All me at home with the cust of the corn.\n",
            "\n",
            "CORNWALL:\n",
            "Who, sir? he hath a son in the devil,\n",
            "I should be so, and so, to see my friends:\n",
            "I will be cholerian, and surely we may,\n",
            "Being a countenance for the champe of him;\n",
            "For, and what stand he is imperial seasons?\n",
            "\n",
            "CASSIUS:\n",
            "Ay, sir, and show your son of mine own prisoner;\n",
            "Though he have bought, and take me out of mine.\n",
            "\n",
            "LUCIO:\n",
            "And so it, sir; that is the providence of\n",
            "Her love to see your highness. Would you write\n",
            "Our charge is at our parting this advised!\n",
            "What are thy breath at hell? what she were sure\n",
            "To seek this father, the wind with a sea\n",
            "Of men and tressage in this state were back'd\n",
            "To make it so alone.\n",
            "\n",
            "LEONTES:\n",
            "Well this, though I should\n",
            "Am I to tell thy sense to see a case,\n",
            "And take my liteness in thy changes of hands:\n",
            "Then win of this and soldier in the sparrows\n",
            "Were not the contrary of our devils.\n",
            "\n",
            "PROTEUS:\n",
            "Why they shall hear the cleature of my chamber,\n",
            "And though the commander of any of my side\n",
            "Where I have die of anger, they would be him.\n",
            "\n",
            "CONRADE:\n",
            "There is a friends to sail them, and his haste\n",
            "That made it stay in thy secret to the course.\n",
            "\n",
            "CASSIUS:\n",
            "Well, we have seen you there: thou hast, too sooth,\n",
            "To she is too break.'\n",
            "\n",
            "BUCKINGHAM:\n",
            "Is this the measure with his state, my sweet?\n",
            "\n",
            "ANNE:\n",
            "Now, sirrah, the strange princes is the maid.\n",
            "\n",
            "KING RICHARD II:\n",
            "What is the mean with her to be this fate?\n",
            "And tell'st the soul of sorrow to the strong\n",
            "That make the poor of thy should be a face?\n",
            "Arm you an all to me, but tell them from\n",
            "This milk, and broke your hands and breaks the court\n",
            "And worse than house and soldier, that they stint\n",
            "With a man and her house with their solemn.\n",
            "\n",
            "BIRON:\n",
            "Well, I will through thee, and the mouth will not.\n",
            "What is \n"
          ],
          "name": "stdout"
        }
      ]
    },
    {
      "cell_type": "code",
      "metadata": {
        "id": "AuLEKBvWB1lj",
        "colab_type": "code",
        "colab": {
          "base_uri": "https://localhost:8080/",
          "height": 332
        },
        "outputId": "70dc3e15-4cf8-4e6a-eccd-ba7aa4850457"
      },
      "source": [
        "checkpoint = 'checkpoints/i200_l512.ckpt'\n",
        "samp = sample(checkpoint, 1000, lstm_size, len(vocab), prime=\"Far\")\n",
        "print(samp)"
      ],
      "execution_count": 24,
      "outputs": [
        {
          "output_type": "stream",
          "text": [
            "Fart,\n",
            "Win sor wont that tor to ther ser aned tor.\n",
            "Whe the mo tith sotun to tin hh ane beten saslt he se tout oud\n",
            "At he ar ar tit hat arether.\n",
            "\n",
            "SAES:\n",
            "I the the sarde an ator aston and the tor,\n",
            "Are tise se want oud ant or there sins sou the an tous thee sand ant thil the thou to toud so wote hore wor heat the tererat y wead tor tores,\n",
            "These te hate wher aled baten ho mins ar thart this and toud shir tathe tor wins the site the te the sarer nall yare, sout ther ther an shal that hor,\n",
            "An des on hore seat hont werthin than the thou des ise thal ar and ase teus wore to tour sanl int al oud that sethe lot tinthis tine aron sote this the than d tit sherend sot, te antore whot tho sor thes, athal sasdes werle, I al lere wel are and ar tith tous sind ther tin ar artir hite, hh walle te wit tout sisl tire,\n",
            "\n",
            "han de anteres are an tint and\n",
            "\n",
            "athe th ir menl oth the ante tot the thal hase al ase he te ale\n",
            "I and seris sor tas,\n",
            "I and tis sarl int ore, tar ale to teut hine\n",
            "Thasl tonu hest oreer four the thi\n"
          ],
          "name": "stdout"
        }
      ]
    },
    {
      "cell_type": "code",
      "metadata": {
        "id": "FnjztkKAB1lv",
        "colab_type": "code",
        "colab": {
          "base_uri": "https://localhost:8080/",
          "height": 469
        },
        "outputId": "2f5b56e1-09c6-4c9b-8f7b-dbc1d974d887"
      },
      "source": [
        "checkpoint = 'checkpoints/i600_l512.ckpt'\n",
        "samp = sample(checkpoint, 1000, lstm_size, len(vocab), prime=\"Far\")\n",
        "print(samp)"
      ],
      "execution_count": 25,
      "outputs": [
        {
          "output_type": "stream",
          "text": [
            "Farles as the pronted\n",
            "To to the paltares in. Way'd with he thougest\n",
            "Of then a southers thou hadt and ten to bust\n",
            "With a with to his and some to she some thourss\n",
            "Take to to more and thay, this frould that wath,\n",
            "I that tho goud to the soont ofe menton of the\n",
            "\n",
            "And to the werting of stale a dourdes thas\n",
            "Tistorteress the world thou the comnesser the forth,\n",
            "Weld my liscint, and the wald and me heart tinkeds.\n",
            "\n",
            "FORSIFLAF:\n",
            "Thou seelt taks winch our and singladise,\n",
            "There's thine ant ant shead bet morth mase\n",
            "Thoure streed of misher to this assers, wored a tist,\n",
            "I conde steake to stor ou hove of stalise.\n",
            "\n",
            "PROTOR OLIUS:\n",
            "Whise he were the wind and sice that that have hang\n",
            "I than the sore thes thas she whan stile some\n",
            "To mearsent of an him sonter, as to to hive the porsers\n",
            "To make is and the wither tay stall' storgh\n",
            "I spull to stine hun to have are thy mast in sithe\n",
            "Wich here sto beter thou stick not me worest\n",
            "And sent of sine and so sour the come to be son\n",
            "The werth wo straen the soot of he with som and\n"
          ],
          "name": "stdout"
        }
      ]
    },
    {
      "cell_type": "code",
      "metadata": {
        "id": "2eRtT1yzB1l0",
        "colab_type": "code",
        "colab": {}
      },
      "source": [
        ""
      ],
      "execution_count": 0,
      "outputs": []
    }
  ]
}